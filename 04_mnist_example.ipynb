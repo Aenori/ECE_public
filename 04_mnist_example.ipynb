{
 "cells": [
  {
   "cell_type": "code",
   "execution_count": null,
   "metadata": {
    "colab": {},
    "colab_type": "code",
    "id": "m1yj0nlFFZw2"
   },
   "outputs": [],
   "source": [
    "try:\n",
    "    # %tensorflow_version only exists in Colab.\n",
    "    %tensorflow_version 2.x\n",
    "except Exception:\n",
    "    print(\"tensorflow_version failed, i guess you are not in Colab\")"
   ]
  },
  {
   "cell_type": "code",
   "execution_count": null,
   "metadata": {
    "colab": {},
    "colab_type": "code",
    "id": "_1tk4_lCFZw-"
   },
   "outputs": [],
   "source": [
    "import tensorflow as tf\n",
    "import numpy as np\n",
    "import matplotlib.pyplot as plt"
   ]
  },
  {
   "cell_type": "code",
   "execution_count": null,
   "metadata": {
    "colab": {
     "base_uri": "https://localhost:8080/",
     "height": 36
    },
    "colab_type": "code",
    "executionInfo": {
     "elapsed": 814,
     "status": "ok",
     "timestamp": 1592313312629,
     "user": {
      "displayName": "Nicolas Rousset",
      "photoUrl": "https://lh3.googleusercontent.com/a-/AOh14GiW7Ct0Buvy9PHHiCTluYEl-NDagFWWEvIqrbR3cw=s64",
      "userId": "03011496268069433024"
     },
     "user_tz": -120
    },
    "id": "4evcZUnmFZxH",
    "outputId": "f46fd1ac-14a4-4515-cacb-7004c0c3ccc2"
   },
   "outputs": [],
   "source": [
    "# Load the mnist pre-shuffled train data and test data\n",
    "(x_train, y_train), (x_test, y_test) = tf.keras.datasets.mnist.load_data()\n",
    "print(\"x_train shape:\", x_train.shape, \"y_train shape:\", y_train.shape)\n",
    "\n",
    "mnist_data_train = x_train\n",
    "\n",
    "x_train = x_train / 255\n",
    "x_test = x_test / 255"
   ]
  },
  {
   "cell_type": "code",
   "execution_count": null,
   "metadata": {
    "colab": {
     "base_uri": "https://localhost:8080/",
     "height": 36
    },
    "colab_type": "code",
    "executionInfo": {
     "elapsed": 533,
     "status": "ok",
     "timestamp": 1592313317568,
     "user": {
      "displayName": "Nicolas Rousset",
      "photoUrl": "https://lh3.googleusercontent.com/a-/AOh14GiW7Ct0Buvy9PHHiCTluYEl-NDagFWWEvIqrbR3cw=s64",
      "userId": "03011496268069433024"
     },
     "user_tz": -120
    },
    "id": "BIUbO2sHFZxM",
    "outputId": "b303bc4e-854d-4d9f-b8a5-b1159560624f"
   },
   "outputs": [],
   "source": [
    "y_train[:9]"
   ]
  },
  {
   "cell_type": "code",
   "execution_count": null,
   "metadata": {},
   "outputs": [],
   "source": [
    "def plotImages(images_arr):\n",
    "    fig, axes = plt.subplots(1, 5, figsize=(20,20))\n",
    "    axes = axes.flatten()\n",
    "    for img, ax in zip(images_arr, axes):\n",
    "        ax.imshow(img)\n",
    "        ax.axis('off')\n",
    "    plt.tight_layout()\n",
    "    plt.show()\n",
    "    \n",
    "plotImages(mnist_data_train[:5])"
   ]
  },
  {
   "cell_type": "code",
   "execution_count": null,
   "metadata": {
    "colab": {
     "base_uri": "https://localhost:8080/",
     "height": 243
    },
    "colab_type": "code",
    "executionInfo": {
     "elapsed": 19538,
     "status": "ok",
     "timestamp": 1592313477732,
     "user": {
      "displayName": "Nicolas Rousset",
      "photoUrl": "https://lh3.googleusercontent.com/a-/AOh14GiW7Ct0Buvy9PHHiCTluYEl-NDagFWWEvIqrbR3cw=s64",
      "userId": "03011496268069433024"
     },
     "user_tz": -120
    },
    "id": "UCyZ1oOVFZxQ",
    "outputId": "5b657dbe-163f-4edb-bdfd-190d4b53dc7b"
   },
   "outputs": [],
   "source": [
    "from tensorflow.keras import layers, models\n",
    "\n",
    "model = models.Sequential([\n",
    "    tf.keras.layers.Reshape((28, 28, 1)),\n",
    "    tf.keras.layers.Conv2D(32, kernel_size=(3,3), padding='same'),\n",
    "    tf.keras.layers.MaxPooling2D(),\n",
    "    layers.Flatten(),\n",
    "    tf.keras.layers.Dense(128),\n",
    "    tf.keras.layers.Dense(10),\n",
    "    tf.keras.layers.Softmax()\n",
    "])\n",
    "\n",
    "\n",
    "model.compile(\n",
    "    optimizer = tf.keras.optimizers.Adam(learning_rate=0.01), \n",
    "    loss=tf.keras.losses.SparseCategoricalCrossentropy(),\n",
    "    metrics = ['accuracy']\n",
    ")\n",
    "model.fit(x_train, y_train, validation_data=(x_test, y_test), epochs = 5)"
   ]
  },
  {
   "cell_type": "code",
   "execution_count": null,
   "metadata": {
    "colab": {},
    "colab_type": "code",
    "id": "RZ94_m3sFZxX"
   },
   "outputs": [],
   "source": [
    "model.fit(x_train, y_train, validation_split=0.2, epochs = 5)"
   ]
  },
  {
   "cell_type": "code",
   "execution_count": null,
   "metadata": {
    "colab": {},
    "colab_type": "code",
    "id": "RXmpOpS_FZxb"
   },
   "outputs": [],
   "source": [
    "model.summary()"
   ]
  },
  {
   "cell_type": "code",
   "execution_count": null,
   "metadata": {},
   "outputs": [],
   "source": []
  }
 ],
 "metadata": {
  "accelerator": "GPU",
  "colab": {
   "collapsed_sections": [],
   "name": "02_mnist.ipynb",
   "provenance": []
  },
  "kernelspec": {
   "display_name": "Python 3",
   "language": "python",
   "name": "python3"
  },
  "language_info": {
   "codemirror_mode": {
    "name": "ipython",
    "version": 3
   },
   "file_extension": ".py",
   "mimetype": "text/x-python",
   "name": "python",
   "nbconvert_exporter": "python",
   "pygments_lexer": "ipython3",
   "version": "3.7.6"
  }
 },
 "nbformat": 4,
 "nbformat_minor": 1
}
