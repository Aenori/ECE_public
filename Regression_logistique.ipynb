{
 "cells": [
  {
   "cell_type": "markdown",
   "metadata": {},
   "source": [
    "# Régression logistique\n",
    "\n",
    "Un petit rappel en vu des réseaux de neurones.\n",
    "\n",
    "## Principe de la régression logistique\n",
    "\n",
    "La régression logistique consiste, comme son nom l'indique, à appliquer la fonction logistique (aussi appeler sigmoïde) à une régression\n",
    "$$f_{logistique} : x \\rightarrow \\frac{1}{1 + e^-x}$$\n",
    "\n",
    "Donc :  \n",
    "$$y = \\frac{1}{1 + e^{-\\theta^\\intercal X}}$$\n",
    "\n",
    "La fonction logistique possède deux caractéristiques intéressantes : elle prend des valeurs dans ]0, 1[ et elle est simple."
   ]
  },
  {
   "cell_type": "code",
   "execution_count": null,
   "metadata": {},
   "outputs": [],
   "source": [
    "import numpy as np\n",
    "import matplotlib.pyplot as plt\n",
    "\n",
    "# evenly sampled time at 200ms intervals\n",
    "x = np.arange(-5, 5, 0.2)\n",
    "\n",
    "# red dashes, blue squares and green triangles\n",
    "plt.plot(x, 1/(1 + np.exp(-x)))\n",
    "plt.show()"
   ]
  },
  {
   "cell_type": "markdown",
   "metadata": {},
   "source": [
    "L'intérêt pour prédire des valeurs binaires (vrai / faux) est évident car cela permet de prédire ces valeurs sans effets de saturation."
   ]
  },
  {
   "cell_type": "markdown",
   "metadata": {},
   "source": [
    "## Exemples : régression linéaire vs logistique"
   ]
  },
  {
   "cell_type": "code",
   "execution_count": null,
   "metadata": {},
   "outputs": [],
   "source": [
    "import numpy as np\n",
    "import matplotlib.pyplot as plt\n",
    "\n",
    "import sklearn.linear_model\n",
    "import sklearn.metrics\n",
    "\n",
    "np.random.seed(0)\n",
    "\n",
    "x = np.sort(10 * np.random.random(1000) - 5)\n",
    "y = x > 0\n",
    "x = x.reshape(-1, 1)\n",
    "\n",
    "reg_lineaire = sklearn.linear_model.LinearRegression().fit(x, y)\n",
    "print(f\"R2 regression lineaire : {reg_lineaire.score(x, y):.4f}\")\n",
    "\n",
    "reg_logistique = sklearn.linear_model.LogisticRegression(penalty='none').fit(x, y)\n",
    "log_predict = reg_logistique.predict_proba(x)[:,1]\n",
    "print(f\"R2 regression logistique : {sklearn.metrics.r2_score(log_predict, y):.4f}\")"
   ]
  },
  {
   "cell_type": "markdown",
   "metadata": {},
   "source": [
    "Sur un modèle simplissime comme celui-ci, on voit que la régression linéaire ne s'en sort pas très bien, la régression logistique beaucoup mieux"
   ]
  },
  {
   "cell_type": "code",
   "execution_count": null,
   "metadata": {},
   "outputs": [],
   "source": [
    "plt.plot(x, reg_lineaire.predict(x), 'r')\n",
    "plt.plot(x, reg_logistique.predict_proba(x)[:,1], 'b')\n",
    "plt.plot(x, y, 'go')\n",
    "plt.show()"
   ]
  },
  {
   "cell_type": "markdown",
   "metadata": {},
   "source": [
    "Et avec un peu de bruit, qu'est ce que cela donne ?"
   ]
  },
  {
   "cell_type": "code",
   "execution_count": null,
   "metadata": {},
   "outputs": [],
   "source": [
    "import numpy as np\n",
    "import matplotlib.pyplot as plt\n",
    "\n",
    "import sklearn.linear_model\n",
    "\n",
    "x = 2 * np.sort(np.random.random(100) - 0.5)\n",
    "y = x + np.random.normal(loc = 0, scale = 0.05, size = 100) > 0\n",
    "x = x.reshape(-1, 1)\n",
    "\n",
    "reg_lineaire = sklearn.linear_model.LinearRegression().fit(x, y)\n",
    "print(f\"R2 regression lineaire : {reg_lineaire.score(x, y):.4f}\")\n",
    "\n",
    "reg_logistique = sklearn.linear_model.LogisticRegression(penalty='none').fit(x, y)\n",
    "log_predict = reg_logistique.predict_proba(x)[:,1]\n",
    "print(f\"R2 regression logistique : {sklearn.metrics.r2_score(log_predict, y):.4f}\")"
   ]
  },
  {
   "cell_type": "code",
   "execution_count": null,
   "metadata": {},
   "outputs": [],
   "source": [
    "plt.plot(x, reg_lineaire.predict(x), 'r')\n",
    "plt.plot(x, reg_logistique.predict_proba(x)[:,1], 'b')\n",
    "plt.plot(x, y, 'go')\n",
    "plt.show()"
   ]
  },
  {
   "cell_type": "code",
   "execution_count": null,
   "metadata": {},
   "outputs": [],
   "source": [
    "x[50:52]"
   ]
  },
  {
   "cell_type": "markdown",
   "metadata": {},
   "source": []
  },
  {
   "cell_type": "code",
   "execution_count": null,
   "metadata": {},
   "outputs": [],
   "source": [
    "reg_logistique.predict(x[50:52])"
   ]
  },
  {
   "cell_type": "code",
   "execution_count": null,
   "metadata": {},
   "outputs": [],
   "source": [
    "reg_logistique.predict_proba(x[50:52])"
   ]
  },
  {
   "cell_type": "code",
   "execution_count": null,
   "metadata": {},
   "outputs": [],
   "source": [
    "reg_logistique.predict_log_proba(x[50:52])"
   ]
  },
  {
   "cell_type": "markdown",
   "metadata": {},
   "source": [
    "## Comparaison réseaux de neurones"
   ]
  },
  {
   "cell_type": "markdown",
   "metadata": {},
   "source": [
    "Faisons notre régression logistique avec un réseau de neurone (logistique parce que activation = 'sigmoid')"
   ]
  },
  {
   "cell_type": "code",
   "execution_count": null,
   "metadata": {},
   "outputs": [],
   "source": [
    "x = 2 * np.sort(np.random.random(100) - 0.5)\n",
    "y = x + np.random.normal(loc = 0, scale = 0.05, size = 100) > 0"
   ]
  },
  {
   "cell_type": "code",
   "execution_count": null,
   "metadata": {},
   "outputs": [],
   "source": [
    "import tensorflow as tf\n",
    "\n",
    "regression_logistique = tf.keras.Sequential([tf.keras.layers.Dense(1, activation = 'sigmoid')])\n",
    "regression_logistique.compile(loss='binary_crossentropy', optimizer = tf.keras.optimizers.SGD(learning_rate=0.1, momentum=0.9))\n",
    "regression_logistique.fit(x, y, epochs = 200, verbose=0)\n",
    "regression_logistique.fit(x, y, epochs = 1)"
   ]
  },
  {
   "cell_type": "code",
   "execution_count": null,
   "metadata": {},
   "outputs": [],
   "source": [
    "plt.plot(x, regression_logistique.predict(x), 'r')\n",
    "plt.plot(x, y, 'go')\n",
    "plt.show()"
   ]
  },
  {
   "cell_type": "markdown",
   "metadata": {},
   "source": [
    "Et mintenant, obtenons la même chose avec une régression linéaire"
   ]
  },
  {
   "cell_type": "code",
   "execution_count": null,
   "metadata": {},
   "outputs": [],
   "source": [
    "import tensorflow as tf\n",
    "\n",
    "regression_lineaire = tf.keras.Sequential([tf.keras.layers.Dense(1)])\n",
    "regression_lineaire.compile(loss=tf.keras.losses.BinaryCrossentropy(from_logits=True), optimizer = tf.keras.optimizers.SGD(learning_rate=0.1, momentum=0.9))\n",
    "regression_lineaire.fit(x, y, epochs = 200, verbose=0)\n",
    "regression_lineaire.fit(x, y, epochs = 1)"
   ]
  },
  {
   "cell_type": "code",
   "execution_count": null,
   "metadata": {},
   "outputs": [],
   "source": [
    "plt.plot(x, regression_lineaire.predict(x), 'r')\n",
    "plt.plot(x, y, 'go')\n",
    "plt.show()"
   ]
  },
  {
   "cell_type": "markdown",
   "metadata": {},
   "source": [
    "Ce qui est produit ici est ce qui s'appelle un score, plus c'est élevé, plus il y a de chances que cela soit vrai"
   ]
  },
  {
   "cell_type": "code",
   "execution_count": null,
   "metadata": {},
   "outputs": [],
   "source": []
  }
 ],
 "metadata": {
  "kernelspec": {
   "display_name": "Python 3",
   "language": "python",
   "name": "python3"
  },
  "language_info": {
   "codemirror_mode": {
    "name": "ipython",
    "version": 3
   },
   "file_extension": ".py",
   "mimetype": "text/x-python",
   "name": "python",
   "nbconvert_exporter": "python",
   "pygments_lexer": "ipython3",
   "version": "3.7.6"
  }
 },
 "nbformat": 4,
 "nbformat_minor": 4
}
