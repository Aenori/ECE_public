{
 "cells": [
  {
   "cell_type": "code",
   "execution_count": null,
   "metadata": {
    "colab": {
     "base_uri": "https://localhost:8080/",
     "height": 35
    },
    "colab_type": "code",
    "executionInfo": {
     "elapsed": 576,
     "status": "ok",
     "timestamp": 1582680280817,
     "user": {
      "displayName": "Nicolas Rousset",
      "photoUrl": "https://lh3.googleusercontent.com/a-/AAuE7mBFovI1nrWucGQGMOk1NufwpOZBFX_-psckh9R0yg=s64",
      "userId": "03011496268069433024"
     },
     "user_tz": -60
    },
    "id": "JBn8frkitE8N",
    "outputId": "7bb4814c-da35-4151-d897-894a756735ca"
   },
   "outputs": [],
   "source": [
    "try:\n",
    "    # %tensorflow_version only exists in Colab.\n",
    "    %tensorflow_version 2.x\n",
    "except Exception:\n",
    "    print(\"tensorflow_version failed, i guess you are not in Colab\")"
   ]
  },
  {
   "cell_type": "code",
   "execution_count": null,
   "metadata": {},
   "outputs": [],
   "source": [
    "import os\n"
   ]
  },
  {
   "cell_type": "code",
   "execution_count": null,
   "metadata": {
    "colab": {},
    "colab_type": "code",
    "id": "-vUTeHqEtE8p"
   },
   "outputs": [],
   "source": [
    "import tensorflow as tf\n",
    "from tensorflow import keras as tfk\n",
    "from tensorflow.keras import layers as tfkl\n",
    "\n",
    "import numpy as np\n",
    "import pandas as pd"
   ]
  },
  {
   "cell_type": "code",
   "execution_count": 27,
   "metadata": {
    "colab": {},
    "colab_type": "code",
    "id": "6UErh4yttE8_"
   },
   "outputs": [],
   "source": [
    "class ModerateLoggingCallback(tfk.callbacks.Callback):\n",
    "    def on_epoch_end(self, epoch, logs):\n",
    "        if epoch % 25 == 0:\n",
    "            print(f\"Loss on epoch {epoch} {logs['loss']}\")"
   ]
  },
  {
   "cell_type": "markdown",
   "metadata": {},
   "source": [
    "# Exercice 1 : fitter une fonction $x => x^2$"
   ]
  },
  {
   "cell_type": "code",
   "execution_count": null,
   "metadata": {},
   "outputs": [],
   "source": [
    "np.random.seed(0)\n",
    "x = np.random.random(1000)\n",
    "y = x ** 2 + 0.2 * np.random.random(1000)"
   ]
  },
  {
   "cell_type": "code",
   "execution_count": null,
   "metadata": {},
   "outputs": [],
   "source": [
    "### <editable> Mettez votre code ici : \n",
    "\n",
    "### </editable>\n",
    "\n",
    "model.compile(optimizer=tfk.optimizers.SGD(momentum=0.9), loss='mse')\n",
    "\n",
    "### <editable> ne pas modifier le nombre d'epochs\n",
    "history = model.fit(\n",
    "    x, \n",
    "    y, \n",
    "    epochs = 101, \n",
    "    # verbose=0, \n",
    "    validation_split=0.2,\n",
    "    # callbacks=[ModerateLoggingCallback()]\n",
    ")\n",
    "### </editable>\n",
    "\n",
    "### <editable> ne pas mettre prediction = y, bien sûr ...\n",
    "# Le reshape est là parce que predict retourne une array à deux dimension (1000, 1)\n",
    "prediction = model.predict(X).reshape(-1)\n",
    "### </editable>\n",
    "\n",
    "final_mse = history.history[\"loss\"][-1]\n",
    "print(f'final_mse : {final_mse}')\n",
    "\n",
    "# Test\n",
    "if final_mse < 0.08:\n",
    "    print(\"Félicitations ! :-)\")\n",
    "else:\n",
    "    print(\"Vous pouvez faire mieux !\")"
   ]
  },
  {
   "cell_type": "code",
   "execution_count": null,
   "metadata": {},
   "outputs": [],
   "source": [
    "import matplotlib.pyplot as plt\n",
    "\n",
    "plt.plot(x, y, 'bo')\n",
    "plt.plot(x, prediction, 'r+')"
   ]
  },
  {
   "cell_type": "code",
   "execution_count": null,
   "metadata": {},
   "outputs": [],
   "source": [
    "np.random.seed(0)\n",
    "x = np.random.random(1000)\n",
    "y = x ** 2 + 0.2 * np.random.random(1000)"
   ]
  },
  {
   "cell_type": "markdown",
   "metadata": {},
   "source": [
    "# Exercice 2 : fitter une fonction complexe"
   ]
  },
  {
   "cell_type": "code",
   "execution_count": null,
   "metadata": {},
   "outputs": [],
   "source": [
    "np.random.seed(0)\n",
    "x = np.random.random((1000, 4))\n",
    "\n",
    "y = x[:, 0] ** 2 + 3 * np.sin(x[:, 1]) + 4 * np.sin(x[:,2]) + exp(x[:3]) + 0.2 * np.random.random(1000)\n"
   ]
  },
  {
   "cell_type": "code",
   "execution_count": null,
   "metadata": {},
   "outputs": [],
   "source": [
    "### <editable> Mettez votre code ici : \n",
    "\n",
    "### </editable>\n",
    "\n",
    "model.compile(optimizer=tfk.optimizers.SGD(momentum=0.9), loss='mse')\n",
    "\n",
    "### <editable> ne pas modifier le nombre d'epochs\n",
    "history = model.fit(\n",
    "    x, \n",
    "    y, \n",
    "    epochs = 101, \n",
    "    # verbose=0, \n",
    "    validation_split=0.2,\n",
    "    # callbacks=[ModerateLoggingCallback()]\n",
    ")\n",
    "### </editable>\n",
    "\n",
    "### <editable> ne pas mettre prediction = y, bien sûr ...\n",
    "# Le reshape est là parce que predict retourne une array à deux dimension (1000, 1)\n",
    "prediction = model.predict(X).reshape(-1)\n",
    "### </editable>\n",
    "\n",
    "final_mse = history.history[\"loss\"][-1]\n",
    "print(f'final_mse : {final_mse}')\n",
    "\n",
    "# Test\n",
    "if final_mse < 0.08:\n",
    "    print(\"Félicitations ! :-)\")\n",
    "else:\n",
    "    print(\"Vous pouvez faire mieux !\")"
   ]
  },
  {
   "cell_type": "markdown",
   "metadata": {},
   "source": [
    "# Exercice 3 : appliquer au boston Housing price"
   ]
  },
  {
   "cell_type": "code",
   "execution_count": null,
   "metadata": {},
   "outputs": [],
   "source": [
    "from sklearn.datasets import load_boston\n",
    "X, y = load_boston(return_X_y=True)\n",
    "print(X.shape)"
   ]
  }
 ],
 "metadata": {
  "colab": {
   "collapsed_sections": [],
   "name": "02_TP_approximation_de_fonctions_3.v2.ipynb",
   "provenance": []
  },
  "kernelspec": {
   "display_name": "Python 3",
   "language": "python",
   "name": "python3"
  },
  "language_info": {
   "codemirror_mode": {
    "name": "ipython",
    "version": 3
   },
   "file_extension": ".py",
   "mimetype": "text/x-python",
   "name": "python",
   "nbconvert_exporter": "python",
   "pygments_lexer": "ipython3",
   "version": "3.7.6"
  }
 },
 "nbformat": 4,
 "nbformat_minor": 1
}
