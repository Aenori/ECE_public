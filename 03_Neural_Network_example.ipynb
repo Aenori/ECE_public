{
 "cells": [
  {
   "cell_type": "code",
   "execution_count": null,
   "metadata": {},
   "outputs": [],
   "source": [
    "import tensorflow as tf\n",
    "import numpy as np\n",
    "\n",
    "X = np.random.random(1000)\n",
    "Y = np.sin(X)*np.exp(X)\n",
    "\n",
    "\n",
    "# tf.random.set_seed(0)\n",
    "# La définition\n",
    "nn = tf.keras.Sequential([\n",
    "    tf.keras.layers.Dense(8, input_shape = (1,), activation = 'relu'),\n",
    "    tf.keras.layers.Dense(8, activation = 'relu'), # hidden layer\n",
    "    tf.keras.layers.Dense(1) # output layer\n",
    "])\n",
    "\n",
    "nn.compile(loss='mse', optimizer=tf.keras.optimizers.SGD(learning_rate=0.1)) # La compilation\n",
    "\n",
    "nn.fit(X, Y, epochs = 50, verbose = 2) # L'apprentissage\n",
    "nn.fit(X, Y, epochs = 1)"
   ]
  },
  {
   "cell_type": "code",
   "execution_count": null,
   "metadata": {},
   "outputs": [],
   "source": [
    "nn.summary()\n"
   ]
  },
  {
   "cell_type": "code",
   "execution_count": null,
   "metadata": {},
   "outputs": [],
   "source": []
  }
 ],
 "metadata": {
  "kernelspec": {
   "display_name": "Python 3",
   "language": "python",
   "name": "python3"
  },
  "language_info": {
   "codemirror_mode": {
    "name": "ipython",
    "version": 3
   },
   "file_extension": ".py",
   "mimetype": "text/x-python",
   "name": "python",
   "nbconvert_exporter": "python",
   "pygments_lexer": "ipython3",
   "version": "3.7.6"
  }
 },
 "nbformat": 4,
 "nbformat_minor": 4
}
