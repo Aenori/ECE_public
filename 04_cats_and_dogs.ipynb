{
 "cells": [
  {
   "cell_type": "code",
   "execution_count": null,
   "metadata": {
    "colab": {
     "base_uri": "https://localhost:8080/",
     "height": 106
    },
    "colab_type": "code",
    "executionInfo": {
     "elapsed": 833,
     "status": "ok",
     "timestamp": 1582732268655,
     "user": {
      "displayName": "Nicolas Rousset",
      "photoUrl": "https://lh3.googleusercontent.com/a-/AAuE7mBFovI1nrWucGQGMOk1NufwpOZBFX_-psckh9R0yg=s64",
      "userId": "03011496268069433024"
     },
     "user_tz": -60
    },
    "id": "IW45oUleGW1K",
    "outputId": "fae03440-d608-4de5-cd6c-f4ae08bb90c8"
   },
   "outputs": [],
   "source": [
    "try:\n",
    "    # %tensorflow_version only exists in Colab.\n",
    "    %tensorflow_version 2.x\n",
    "except Exception:\n",
    "    print(\"tensorflow_version failed, i guess you are not in Colab\")"
   ]
  },
  {
   "cell_type": "code",
   "execution_count": null,
   "metadata": {
    "colab": {},
    "colab_type": "code",
    "id": "z_tcD__NGvcp"
   },
   "outputs": [],
   "source": [
    "import tensorflow as tf\n",
    "import os"
   ]
  },
  {
   "cell_type": "code",
   "execution_count": null,
   "metadata": {
    "colab": {
     "base_uri": "https://localhost:8080/",
     "height": 53
    },
    "colab_type": "code",
    "executionInfo": {
     "elapsed": 3421,
     "status": "ok",
     "timestamp": 1582732283441,
     "user": {
      "displayName": "Nicolas Rousset",
      "photoUrl": "https://lh3.googleusercontent.com/a-/AAuE7mBFovI1nrWucGQGMOk1NufwpOZBFX_-psckh9R0yg=s64",
      "userId": "03011496268069433024"
     },
     "user_tz": -60
    },
    "id": "hKkCvuSmGRTk",
    "outputId": "838c857b-949c-44f1-9129-47813b02f10f"
   },
   "outputs": [],
   "source": [
    "_URL = 'https://storage.googleapis.com/mledu-datasets/cats_and_dogs_filtered.zip'\n",
    "\n",
    "path_to_zip = tf.keras.utils.get_file('cats_and_dogs.zip', origin=_URL, extract=True)\n",
    "\n",
    "PATH = os.path.join(os.path.dirname(path_to_zip), 'cats_and_dogs_filtered')\n",
    "\n",
    "train_dir = os.path.join(PATH, 'train')\n",
    "validation_dir = os.path.join(PATH, 'validation')"
   ]
  },
  {
   "cell_type": "code",
   "execution_count": null,
   "metadata": {
    "colab": {},
    "colab_type": "code",
    "id": "U7_96W6dHOy9"
   },
   "outputs": [],
   "source": [
    "from tensorflow.keras.models import Model\n",
    "from tensorflow.keras.layers import Dense\n",
    "from tensorflow.keras.layers import Flatten\n",
    "from tensorflow.keras.optimizers import SGD\n",
    "from tensorflow.keras.preprocessing.image import ImageDataGenerator"
   ]
  },
  {
   "cell_type": "code",
   "execution_count": null,
   "metadata": {
    "colab": {
     "base_uri": "https://localhost:8080/",
     "height": 53
    },
    "colab_type": "code",
    "executionInfo": {
     "elapsed": 680,
     "status": "ok",
     "timestamp": 1582732921849,
     "user": {
      "displayName": "Nicolas Rousset",
      "photoUrl": "https://lh3.googleusercontent.com/a-/AAuE7mBFovI1nrWucGQGMOk1NufwpOZBFX_-psckh9R0yg=s64",
      "userId": "03011496268069433024"
     },
     "user_tz": -60
    },
    "id": "EhQ5qGX7HEbl",
    "outputId": "e2c015fd-8191-4d1b-8506-f2fb27a095b5"
   },
   "outputs": [],
   "source": [
    "datagen = ImageDataGenerator(rescale=1./255)\n",
    "\n",
    "train_it = datagen.flow_from_directory(train_dir,\n",
    "    class_mode='binary', batch_size=64, target_size=(224, 224))\n",
    "test_it = datagen.flow_from_directory(validation_dir,\n",
    "    class_mode='binary', batch_size=64, target_size=(224, 224))"
   ]
  },
  {
   "cell_type": "code",
   "execution_count": null,
   "metadata": {
    "colab": {
     "base_uri": "https://localhost:8080/",
     "height": 479
    },
    "colab_type": "code",
    "executionInfo": {
     "elapsed": 105278,
     "status": "ok",
     "timestamp": 1582733154378,
     "user": {
      "displayName": "Nicolas Rousset",
      "photoUrl": "https://lh3.googleusercontent.com/a-/AAuE7mBFovI1nrWucGQGMOk1NufwpOZBFX_-psckh9R0yg=s64",
      "userId": "03011496268069433024"
     },
     "user_tz": -60
    },
    "id": "GO_BimBLMhX1",
    "outputId": "3b9f4e73-36a1-427a-c379-be49f5be4562"
   },
   "outputs": [],
   "source": [
    "model = tf.keras.Sequential([\n",
    "    tf.keras.layers.Dense(1, activation='sigmoid') # output layer\n",
    "])\n",
    "\n",
    "model.compile(optimizer=SGD(lr=0.001, momentum=0.9), loss='binary_crossentropy', metrics=['accuracy'])\n",
    "model.fit(train_it, epochs=10, validation_data=test_it)"
   ]
  },
  {
   "cell_type": "code",
   "execution_count": null,
   "metadata": {},
   "outputs": [],
   "source": []
  }
 ],
 "metadata": {
  "accelerator": "GPU",
  "colab": {
   "authorship_tag": "ABX9TyP2SAXQw142UyWXSBm9tgvW",
   "name": "03_cats_and_dogs.ipynb",
   "provenance": [
    {
     "file_id": "1ravQN4z0Yh93XHyrzHbd3mHVjFt25z0i",
     "timestamp": 1582731077963
    }
   ]
  },
  "kernelspec": {
   "display_name": "Python 3",
   "language": "python",
   "name": "python3"
  },
  "language_info": {
   "codemirror_mode": {
    "name": "ipython",
    "version": 3
   },
   "file_extension": ".py",
   "mimetype": "text/x-python",
   "name": "python",
   "nbconvert_exporter": "python",
   "pygments_lexer": "ipython3",
   "version": "3.7.6"
  }
 },
 "nbformat": 4,
 "nbformat_minor": 1
}
