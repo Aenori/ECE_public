{
 "cells": [
  {
   "cell_type": "code",
   "execution_count": null,
   "metadata": {
    "colab": {},
    "colab_type": "code",
    "id": "m1yj0nlFFZw2"
   },
   "outputs": [],
   "source": [
    "try:\n",
    "    # %tensorflow_version only exists in Colab.\n",
    "    %tensorflow_version 2.x\n",
    "except Exception:\n",
    "    print(\"tensorflow_version failed, i guess you are not in Colab\")"
   ]
  },
  {
   "cell_type": "code",
   "execution_count": null,
   "metadata": {
    "colab": {},
    "colab_type": "code",
    "id": "_1tk4_lCFZw-"
   },
   "outputs": [],
   "source": [
    "import tensorflow as tf\n",
    "import numpy as np\n",
    "import matplotlib.pyplot as plt"
   ]
  },
  {
   "cell_type": "code",
   "execution_count": null,
   "metadata": {
    "colab": {
     "base_uri": "https://localhost:8080/",
     "height": 35
    },
    "colab_type": "code",
    "executionInfo": {
     "elapsed": 1250,
     "status": "ok",
     "timestamp": 1592384908196,
     "user": {
      "displayName": "Nicolas Rousset",
      "photoUrl": "https://lh3.googleusercontent.com/a-/AOh14GiW7Ct0Buvy9PHHiCTluYEl-NDagFWWEvIqrbR3cw=s64",
      "userId": "03011496268069433024"
     },
     "user_tz": -120
    },
    "id": "4evcZUnmFZxH",
    "outputId": "828ea125-435f-432f-e64e-970bfa55696d"
   },
   "outputs": [],
   "source": [
    "# Load the fashion-mnist pre-shuffled train data and test data\n",
    "(x_train, y_train), (x_test, y_test) = tf.keras.datasets.fashion_mnist.load_data()\n",
    "print(\"x_train shape:\", x_train.shape, \"y_train shape:\", y_train.shape)\n",
    "\n",
    "x_train = x_train / 255\n",
    "x_test = x_test / 255"
   ]
  },
  {
   "cell_type": "code",
   "execution_count": null,
   "metadata": {
    "colab": {
     "base_uri": "https://localhost:8080/",
     "height": 265
    },
    "colab_type": "code",
    "executionInfo": {
     "elapsed": 558,
     "status": "ok",
     "timestamp": 1592384954370,
     "user": {
      "displayName": "Nicolas Rousset",
      "photoUrl": "https://lh3.googleusercontent.com/a-/AOh14GiW7Ct0Buvy9PHHiCTluYEl-NDagFWWEvIqrbR3cw=s64",
      "userId": "03011496268069433024"
     },
     "user_tz": -120
    },
    "id": "Pqu0heWTiYBV",
    "outputId": "521ffe06-2a1c-483b-847b-e12eb9eb3573"
   },
   "outputs": [],
   "source": [
    "from matplotlib import pyplot as plt\n",
    "import numpy as np\n",
    "\n",
    "first_image = x_train[0]\n",
    "first_image = np.array(first_image, dtype='float')\n",
    "pixels = first_image\n",
    "plt.imshow(pixels, cmap='gray')\n",
    "plt.show()"
   ]
  },
  {
   "cell_type": "markdown",
   "metadata": {
    "colab_type": "text",
    "id": "uJqlBLQnfP4B"
   },
   "source": [
    "1/ Pourquoi divise-t-on les entrées par 255 ?"
   ]
  },
  {
   "cell_type": "code",
   "execution_count": null,
   "metadata": {
    "colab": {},
    "colab_type": "code",
    "executionInfo": {
     "elapsed": 10187,
     "status": "ok",
     "timestamp": 1592398763319,
     "user": {
      "displayName": "Nicolas Rousset",
      "photoUrl": "https://lh3.googleusercontent.com/a-/AOh14GiW7Ct0Buvy9PHHiCTluYEl-NDagFWWEvIqrbR3cw=s64",
      "userId": "03011496268069433024"
     },
     "user_tz": -120
    },
    "id": "7QD_gEEFeeR-"
   },
   "outputs": [],
   "source": [
    "from tensorflow.keras import layers, models\n",
    "\n",
    "# Etape numéro 1, on définit le modèle \n",
    "model = models.Sequential([\n",
    "    layers.Dense(10, activation='softmax')\n",
    "])"
   ]
  },
  {
   "cell_type": "code",
   "execution_count": null,
   "metadata": {
    "colab": {
     "base_uri": "https://localhost:8080/",
     "height": 565
    },
    "colab_type": "code",
    "executionInfo": {
     "elapsed": 980,
     "status": "ok",
     "timestamp": 1592388766756,
     "user": {
      "displayName": "Nicolas Rousset",
      "photoUrl": "https://lh3.googleusercontent.com/a-/AOh14GiW7Ct0Buvy9PHHiCTluYEl-NDagFWWEvIqrbR3cw=s64",
      "userId": "03011496268069433024"
     },
     "user_tz": -120
    },
    "id": "pBC9q0EjkiMa",
    "outputId": "e134d85f-1449-4bd7-fa24-314ac24dc22b"
   },
   "outputs": [],
   "source": [
    "model.summary()"
   ]
  },
  {
   "cell_type": "code",
   "execution_count": null,
   "metadata": {
    "colab": {
     "base_uri": "https://localhost:8080/",
     "height": 865
    },
    "colab_type": "code",
    "executionInfo": {
     "elapsed": 783,
     "status": "ok",
     "timestamp": 1592384463085,
     "user": {
      "displayName": "Nicolas Rousset",
      "photoUrl": "https://lh3.googleusercontent.com/a-/AOh14GiW7Ct0Buvy9PHHiCTluYEl-NDagFWWEvIqrbR3cw=s64",
      "userId": "03011496268069433024"
     },
     "user_tz": -120
    },
    "id": "NUkmqQqhecnm",
    "outputId": "011b2a07-a1a7-48e8-b7f6-3e159a11d651"
   },
   "outputs": [],
   "source": [
    "tf.keras.utils.plot_model(model, show_shapes=True)"
   ]
  },
  {
   "cell_type": "markdown",
   "metadata": {
    "colab_type": "text",
    "id": "d7nAqx-je2ho"
   },
   "source": [
    "1/ Que se passe-t-il si on enlève le layer \"Reshape\" au début ? Pourquoi ?\n",
    "\n",
    "2/ Que se passe-t-il si on enlève le layer \"Flatten\" au milieu ? Pourquoi ?"
   ]
  },
  {
   "cell_type": "code",
   "execution_count": null,
   "metadata": {
    "colab": {
     "base_uri": "https://localhost:8080/",
     "height": 786
    },
    "colab_type": "code",
    "executionInfo": {
     "elapsed": 187008,
     "status": "ok",
     "timestamp": 1592388403403,
     "user": {
      "displayName": "Nicolas Rousset",
      "photoUrl": "https://lh3.googleusercontent.com/a-/AOh14GiW7Ct0Buvy9PHHiCTluYEl-NDagFWWEvIqrbR3cw=s64",
      "userId": "03011496268069433024"
     },
     "user_tz": -120
    },
    "id": "UCyZ1oOVFZxQ",
    "outputId": "76cc271a-467e-4453-e0e3-4cf2c506a6d7"
   },
   "outputs": [],
   "source": [
    "# Etape n 2 => on indique qu'il faut compiler le modèle, en indiquant les caractéristiques du problème d'optimisation \n",
    "model.compile(\n",
    "    optimizer = tf.keras.optimizers.SGD(momentum=0.9, learning_rate=0.01), \n",
    "    loss=tf.keras.losses.SparseCategoricalCrossentropy(),\n",
    "    metrics = ['accuracy']\n",
    ")\n",
    "\n",
    "# Etape n 3 => On entraine le modèle\n",
    "model.fit(x_train, y_train, validation_data=(x_test, y_test), epochs=20)"
   ]
  },
  {
   "cell_type": "code",
   "execution_count": null,
   "metadata": {
    "colab": {
     "base_uri": "https://localhost:8080/",
     "height": 223
    },
    "colab_type": "code",
    "executionInfo": {
     "elapsed": 46783,
     "status": "ok",
     "timestamp": 1592288059716,
     "user": {
      "displayName": "Nicolas Rousset",
      "photoUrl": "https://lh3.googleusercontent.com/a-/AOh14GiW7Ct0Buvy9PHHiCTluYEl-NDagFWWEvIqrbR3cw=s64",
      "userId": "03011496268069433024"
     },
     "user_tz": -120
    },
    "id": "RZ94_m3sFZxX",
    "outputId": "06d5211b-dfd3-4d0e-cd65-54eebe2144c9"
   },
   "outputs": [],
   "source": [
    "model.fit(x_train, y_train, validation_split=0.2, epochs = 5)"
   ]
  },
  {
   "cell_type": "code",
   "execution_count": null,
   "metadata": {
    "colab": {
     "base_uri": "https://localhost:8080/",
     "height": 865
    },
    "colab_type": "code",
    "executionInfo": {
     "elapsed": 1028,
     "status": "ok",
     "timestamp": 1592381906744,
     "user": {
      "displayName": "Nicolas Rousset",
      "photoUrl": "https://lh3.googleusercontent.com/a-/AOh14GiW7Ct0Buvy9PHHiCTluYEl-NDagFWWEvIqrbR3cw=s64",
      "userId": "03011496268069433024"
     },
     "user_tz": -120
    },
    "id": "RXmpOpS_FZxb",
    "outputId": "410332b8-5cfc-4367-b68a-7487fe63f7e2"
   },
   "outputs": [],
   "source": [
    "tf.keras.utils.plot_model(model, show_shapes=True)"
   ]
  }
 ],
 "metadata": {
  "accelerator": "GPU",
  "colab": {
   "collapsed_sections": [],
   "name": "03_mnist_fashion.20200617.ipynb",
   "provenance": [
    {
     "file_id": "1Ngo5GU5EsjS74eopdZZWNzqrvG0KZHO3",
     "timestamp": 1592283181085
    }
   ]
  },
  "kernelspec": {
   "display_name": "Python 3",
   "language": "python",
   "name": "python3"
  },
  "language_info": {
   "codemirror_mode": {
    "name": "ipython",
    "version": 3
   },
   "file_extension": ".py",
   "mimetype": "text/x-python",
   "name": "python",
   "nbconvert_exporter": "python",
   "pygments_lexer": "ipython3",
   "version": "3.7.6"
  }
 },
 "nbformat": 4,
 "nbformat_minor": 1
}
