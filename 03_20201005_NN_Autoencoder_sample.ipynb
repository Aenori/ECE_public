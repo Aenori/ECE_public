{
 "cells": [
  {
   "cell_type": "markdown",
   "metadata": {},
   "source": [
    "# Auto-encoder : Neural Network\n",
    "\n",
    "Les auto-encoders sont souvent mentionnés dans les articles sur les réseaux neuronaux.\n",
    "Il s'agit d'apprentissage non supervisé. On cherche à reconstruire les données d'entrées, en passant par une étape de réduction de la dimension.\n",
    "\n",
    "Autrement dit, les auto-encoders sont composés de deux parties :\n",
    "- un encoder qui transforme les entrées dans une représentation de faible dimension\n",
    "- un decoder qui reconstruit les données d'entrées"
   ]
  },
  {
   "cell_type": "code",
   "execution_count": null,
   "metadata": {},
   "outputs": [],
   "source": [
    "try:\n",
    "    # %tensorflow_version only exists in Colab.\n",
    "    %tensorflow_version 2.x\n",
    "except Exception:\n",
    "    print(\"tensorflow_version failed, i guess you are not in Colab\")"
   ]
  },
  {
   "cell_type": "code",
   "execution_count": null,
   "metadata": {},
   "outputs": [],
   "source": [
    "# NN Auto-encoder example\n",
    "import numpy as np\n",
    "import tensorflow as tf\n",
    "\n",
    "auto_encoder = tf.keras.Sequential([\n",
    "    # encoder\n",
    "    tf.keras.layers.Dense(1), # Les dimensions des données d'entrées est de 2, la sortie de\n",
    "                              # cette couche a une dimension 1, il y a bien une réduction de \n",
    "                              # dimension\n",
    "    # Decoder\n",
    "    tf.keras.layers.Dense(8, activation='relu'),\n",
    "    tf.keras.layers.Dense(2)\n",
    "])\n",
    "\n",
    "# Data\n",
    "x = np.random.random(1000)\n",
    "X = np.array([x, x**2]).transpose()\n",
    "\n",
    "print(X.shape)\n",
    "\n",
    "# Compilation\n",
    "auto_encoder.compile(tf.keras.optimizers.SGD(learning_rate=0.1, momentum=0.9), loss='MSE')\n",
    "\n",
    "# Apprentissage\n",
    "auto_encoder.fit(X, X, epochs = 100, verbose = 2)"
   ]
  },
  {
   "cell_type": "markdown",
   "metadata": {},
   "source": [
    "L'avantage des auto-encoders par rapport à d'autres méthodes de réductions de la dimension est qu'ils peuvent s'adapter à des transformations non-linéaires (contrairement à la PCA)"
   ]
  },
  {
   "cell_type": "code",
   "execution_count": null,
   "metadata": {},
   "outputs": [],
   "source": []
  }
 ],
 "metadata": {
  "kernelspec": {
   "display_name": "Python 3",
   "language": "python",
   "name": "python3"
  },
  "language_info": {
   "codemirror_mode": {
    "name": "ipython",
    "version": 3
   },
   "file_extension": ".py",
   "mimetype": "text/x-python",
   "name": "python",
   "nbconvert_exporter": "python",
   "pygments_lexer": "ipython3",
   "version": "3.7.6"
  }
 },
 "nbformat": 4,
 "nbformat_minor": 4
}
