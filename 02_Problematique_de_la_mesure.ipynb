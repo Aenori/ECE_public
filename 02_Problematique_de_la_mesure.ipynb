{
 "cells": [
  {
   "cell_type": "markdown",
   "metadata": {},
   "source": [
    "# Problématique de la mesure"
   ]
  },
  {
   "cell_type": "code",
   "execution_count": null,
   "metadata": {},
   "outputs": [],
   "source": [
    "import os\n",
    "import pandas as pd"
   ]
  },
  {
   "cell_type": "code",
   "execution_count": null,
   "metadata": {},
   "outputs": [],
   "source": [
    "cac40 = pd.read_csv('CAC 40 - Données Historiques.csv')"
   ]
  },
  {
   "cell_type": "code",
   "execution_count": null,
   "metadata": {},
   "outputs": [],
   "source": [
    "cac40.head()"
   ]
  },
  {
   "cell_type": "code",
   "execution_count": null,
   "metadata": {},
   "outputs": [],
   "source": [
    "import numpy as np\n",
    "\n",
    "cac40['Dernier'] = cac40['Dernier'].map(lambda x : np.float64(x.replace('.', '').replace(',', '.')))\n",
    "\n",
    "Y = cac40['Dernier'][3:]\n",
    "X = np.array(\n",
    "    (cac40['Dernier'][:-3], \n",
    "     cac40['Dernier'][1:-2], \n",
    "     cac40['Dernier'][2:-1])\n",
    ").transpose()\n",
    "X"
   ]
  },
  {
   "cell_type": "markdown",
   "metadata": {},
   "source": [
    "Arrive-t-on à prédire le cac 40 efficacement ? La réponse est oui."
   ]
  },
  {
   "cell_type": "code",
   "execution_count": null,
   "metadata": {},
   "outputs": [],
   "source": [
    "import sklearn.linear_model\n",
    "\n",
    "reg_lineaire = sklearn.linear_model.LinearRegression().fit(X, Y)\n",
    "reg_lineaire.score(X, Y)"
   ]
  },
  {
   "cell_type": "markdown",
   "metadata": {},
   "source": [
    "Arrive-t-on à prédire ces variations efficacement ? La réponse est non."
   ]
  },
  {
   "cell_type": "code",
   "execution_count": null,
   "metadata": {},
   "outputs": [],
   "source": [
    "Y_delta = cac40['Dernier'][3:].values - cac40['Dernier'][2:-1].values\n",
    "print(Y_delta.shape)\n",
    "reg_lineaire = sklearn.linear_model.LinearRegression().fit(X, Y_delta)\n",
    "reg_lineaire.score(X, Y_delta)"
   ]
  },
  {
   "cell_type": "code",
   "execution_count": null,
   "metadata": {},
   "outputs": [],
   "source": [
    "cac40['Dernier'][3:] - cac40['Dernier'][2:-1]"
   ]
  },
  {
   "cell_type": "code",
   "execution_count": null,
   "metadata": {},
   "outputs": [],
   "source": []
  }
 ],
 "metadata": {
  "kernelspec": {
   "display_name": "Python 3",
   "language": "python",
   "name": "python3"
  },
  "language_info": {
   "codemirror_mode": {
    "name": "ipython",
    "version": 3
   },
   "file_extension": ".py",
   "mimetype": "text/x-python",
   "name": "python",
   "nbconvert_exporter": "python",
   "pygments_lexer": "ipython3",
   "version": "3.7.6"
  }
 },
 "nbformat": 4,
 "nbformat_minor": 4
}
